{
 "cells": [
  {
   "cell_type": "code",
   "execution_count": 1,
   "metadata": {},
   "outputs": [],
   "source": [
    "import pandas as pd\n",
    "import joblib\n",
    "import numpy as np"
   ]
  },
  {
   "cell_type": "code",
   "execution_count": 2,
   "metadata": {},
   "outputs": [],
   "source": [
    "X_test = pd.read_csv('../data/X_test_balanceado.csv')"
   ]
  },
  {
   "cell_type": "code",
   "execution_count": 3,
   "metadata": {},
   "outputs": [],
   "source": [
    "# Load the scaler object from the file\n",
    "scaler = joblib.load('scaler.pkl')"
   ]
  },
  {
   "cell_type": "code",
   "execution_count": 4,
   "metadata": {},
   "outputs": [],
   "source": [
    "# Scale the test data using the saved scaler object\n",
    "X_test_scaled = scaler.transform(X_test)"
   ]
  },
  {
   "cell_type": "code",
   "execution_count": 5,
   "metadata": {},
   "outputs": [],
   "source": [
    "test_data = X_test_scaled[0]"
   ]
  },
  {
   "cell_type": "code",
   "execution_count": 6,
   "metadata": {},
   "outputs": [
    {
     "data": {
      "text/plain": [
       "(777,)"
      ]
     },
     "execution_count": 6,
     "metadata": {},
     "output_type": "execute_result"
    }
   ],
   "source": [
    "test_data.shape"
   ]
  },
  {
   "cell_type": "code",
   "execution_count": 11,
   "metadata": {},
   "outputs": [],
   "source": [
    "test_data = test_data.reshape(1, 777)"
   ]
  },
  {
   "cell_type": "code",
   "execution_count": 12,
   "metadata": {},
   "outputs": [
    {
     "name": "stdout",
     "output_type": "stream",
     "text": [
      "[0.56865275]\n"
     ]
    }
   ],
   "source": [
    "import json\n",
    "import requests\n",
    "\n",
    "# Define the URL for the prediction request\n",
    "url = 'http://localhost:7000/v1/models/bm:predict'\n",
    "\n",
    "# Define the input data for the prediction request\n",
    "input_data = test_data.astype('float32').tolist()\n",
    "request_data = {'instances': input_data}\n",
    "\n",
    "# Send the prediction request to the API\n",
    "response = requests.post(url, data=json.dumps(request_data))\n",
    "\n",
    "\n",
    "# Parse the prediction result from the response\n",
    "result = json.loads(response.text)['predictions'][0]\n",
    "result = np.array(result).astype('float32')\n",
    "\n",
    "\n",
    "# Print the prediction result\n",
    "print(result)"
   ]
  },
  {
   "cell_type": "code",
   "execution_count": 13,
   "metadata": {},
   "outputs": [],
   "source": [
    "import json\n",
    "import requests\n",
    "import numpy as np\n",
    "import time\n",
    "import multiprocessing\n",
    "\n",
    "# Define the URL for the prediction request\n",
    "url = 'http://localhost:7000/v1/models/bm:predict'\n",
    "\n",
    "# Define the input data for the prediction request\n",
    "input_data = np.random.rand(1, 777).astype('float32').tolist()\n",
    "request_data = {'instances': input_data}\n",
    "\n",
    "# Define a function that sends a prediction request to the server\n",
    "def send_request(url, request_data, queue):\n",
    "    start_time = time.time()\n",
    "    response = requests.post(url, data=json.dumps(request_data))\n",
    "    end_time = time.time()\n",
    "    result = json.loads(response.text)['predictions'][0]\n",
    "    result = np.array(result).astype('float32')\n",
    "    queue.put((result, end_time - start_time))\n",
    "\n",
    "# Define the number of processes to spawn\n",
    "num_processes = 10\n",
    "\n",
    "# Define the number of requests per process\n",
    "num_requests = 5000\n",
    "\n",
    "# Define the total time to run the stress test\n",
    "total_time = 45\n",
    "\n",
    "# Compute the delay between requests\n",
    "delay = total_time / (num_processes * num_requests)\n",
    "\n",
    "# Spawn the processes\n",
    "processes = []\n",
    "queue = multiprocessing.Queue()\n",
    "for i in range(num_processes):\n",
    "    p = multiprocessing.Process(target=send_request, args=(url, request_data, queue))\n",
    "    processes.append(p)\n",
    "    p.start()\n",
    "\n",
    "# Collect the results from the processes\n",
    "results = []\n",
    "while len(results) < num_processes * num_requests:\n",
    "    try:\n",
    "        result = queue.get(timeout=1)\n",
    "        results.append(result)\n",
    "    except:\n",
    "        pass\n",
    "\n",
    "# Compute the percentage of requests that were responded\n",
    "num_responded = len(results)\n",
    "num_total = num_processes * num_requests\n",
    "percent_responded = num_responded / num_total * 100\n",
    "\n",
    "# Compute the average processing time\n",
    "avg_time = sum([r[1] for r in results]) / num_responded\n",
    "\n",
    "# Print the results\n",
    "print(f'Percentage of requests responded: {percent_responded:.2f}%')\n",
    "print(f'Average processing time: {avg_time:.2f} seconds')"
   ]
  }
 ],
 "metadata": {
  "kernelspec": {
   "display_name": "tf",
   "language": "python",
   "name": "python3"
  },
  "language_info": {
   "codemirror_mode": {
    "name": "ipython",
    "version": 3
   },
   "file_extension": ".py",
   "mimetype": "text/x-python",
   "name": "python",
   "nbconvert_exporter": "python",
   "pygments_lexer": "ipython3",
   "version": "3.9.16"
  },
  "orig_nbformat": 4
 },
 "nbformat": 4,
 "nbformat_minor": 2
}
